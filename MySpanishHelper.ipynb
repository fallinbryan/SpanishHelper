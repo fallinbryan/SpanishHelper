{
 "cells": [
  {
   "cell_type": "code",
   "execution_count": 129,
   "metadata": {
    "collapsed": true
   },
   "outputs": [],
   "source": [
    "import pandas as pd\n",
    "import pickle\n",
    "import tkinter as tk\n",
    "import numpy as np\n",
    "import random\n",
    "\n",
    "moodMap = {'Indicative': 0,\n",
    "         'Subjunctive': 1,\n",
    "         'Imperative': 2,\n",
    "         'Progressive': 3,\n",
    "         'Perfect': 4,\n",
    "         'Perfect Subjunctive': 5}\n",
    "\n",
    "pronounMap = {'yo': 0,\n",
    "            'tú': 1,\n",
    "            'Ud.': 2,\n",
    "            'nosotros': 3,\n",
    "            'vosotros': 4,\n",
    "            'Uds': 5}\n",
    "\n",
    "tenses = ['Present',\n",
    "          'Preterite',\n",
    "          'Imperfect',\n",
    "          'Affirmative',\n",
    "          'Negative']"
   ]
  },
  {
   "cell_type": "code",
   "execution_count": 130,
   "metadata": {},
   "outputs": [],
   "source": [
    "with open('verbs.pickle','rb') as pickledData:\n",
    "    verbs_df = pickle.load(pickledData)"
   ]
  },
  {
   "cell_type": "code",
   "execution_count": 151,
   "metadata": {},
   "outputs": [],
   "source": [
    "verb_list = list(verbs_df.Spanish.values)"
   ]
  },
  {
   "cell_type": "code",
   "execution_count": 152,
   "metadata": {},
   "outputs": [],
   "source": [
    "verbMap = {}\n",
    "for i,verb in enumerate(verb_list):\n",
    "    verbMap[verb] = i"
   ]
  },
  {
   "cell_type": "code",
   "execution_count": 156,
   "metadata": {},
   "outputs": [],
   "source": [
    "moods = []\n",
    "pronouns = []\n",
    "for name in moodMap:\n",
    "    moods.append(name)\n",
    "for name in pronounMap:\n",
    "    pronouns.append(name)"
   ]
  },
  {
   "cell_type": "code",
   "execution_count": 157,
   "metadata": {},
   "outputs": [],
   "source": [
    "rVindex = random.randrange(0, len(verb_list))\n",
    "rMindex = random.randrange(0, len(moods))\n",
    "rPindex = random.randrange(0, len(pronouns))\n",
    "rTindex = random.randrange(0, len(tenses))"
   ]
  },
  {
   "cell_type": "code",
   "execution_count": 158,
   "metadata": {},
   "outputs": [
    {
     "data": {
      "text/plain": [
       "'hube cambiado'"
      ]
     },
     "execution_count": 158,
     "metadata": {},
     "output_type": "execute_result"
    }
   ],
   "source": [
    "conjs = verbs_df.Conjugations.values[verbMap[verb_list[rVindex]]]\n",
    "mood_df = conjs[moodMap[moods[rMindex]]]\n",
    "mood_df[tenses[rTindex]].values[pronounMap[pronouns[rPindex]]]"
   ]
  },
  {
   "cell_type": "code",
   "execution_count": 159,
   "metadata": {},
   "outputs": [
    {
     "name": "stdout",
     "output_type": "stream",
     "text": [
      "Conjugations\nEnglish\nRegular\nSpanish\n"
     ]
    }
   ],
   "source": [
    "for name in verbs_df:\n",
    "    print(name)"
   ]
  },
  {
   "cell_type": "code",
   "execution_count": 160,
   "metadata": {},
   "outputs": [
    {
     "data": {
      "text/plain": [
       "(100, 100)"
      ]
     },
     "execution_count": 160,
     "metadata": {},
     "output_type": "execute_result"
    }
   ],
   "source": [
    "all_words = [v for v in verb_list]\n",
    "verb_blocks = []\n",
    "start_index = len(all_words)\n",
    "end_index = len(all_words)\n",
    "for lst in verbs_df['Conjugations'].values:\n",
    "    verb_blocks.append( (start_index, end_index) )\n",
    "    start_index = end_index \n",
    "    for index, df in enumerate(lst):\n",
    "        for name in df.drop(columns=moods[index]):\n",
    "            for word in df[name].values:\n",
    "                all_words.append(word)\n",
    "                end_index += 1\n",
    "verb_blocks.pop(0)"
   ]
  },
  {
   "cell_type": "code",
   "execution_count": 1,
   "metadata": {},
   "outputs": [
    {
     "ename": "NameError",
     "evalue": "name 'verb_list' is not defined",
     "traceback": [
      "\u001b[1;31m---------------------------------------------------------------------------\u001b[0m",
      "\u001b[1;31mNameError\u001b[0m                                 Traceback (most recent call last)",
      "\u001b[1;32m<ipython-input-1-20a80802357e>\u001b[0m in \u001b[0;36m<module>\u001b[1;34m()\u001b[0m\n\u001b[1;32m----> 1\u001b[1;33m \u001b[0mprint\u001b[0m\u001b[1;33m(\u001b[0m\u001b[0mlen\u001b[0m\u001b[1;33m(\u001b[0m\u001b[0mverb_list\u001b[0m\u001b[1;33m)\u001b[0m\u001b[1;33m)\u001b[0m\u001b[1;33m\u001b[0m\u001b[0m\n\u001b[0m\u001b[0;32m      2\u001b[0m \u001b[0mprint\u001b[0m\u001b[1;33m(\u001b[0m\u001b[0mlen\u001b[0m\u001b[1;33m(\u001b[0m\u001b[0mverb_blocks\u001b[0m\u001b[1;33m)\u001b[0m\u001b[1;33m)\u001b[0m\u001b[1;33m\u001b[0m\u001b[0m\n",
      "\u001b[1;31mNameError\u001b[0m: name 'verb_list' is not defined"
     ],
     "output_type": "error"
    }
   ],
   "source": [
    "print(len(verb_list))\n",
    "print(len(verb_blocks))"
   ]
  },
  {
   "cell_type": "code",
   "execution_count": 162,
   "metadata": {},
   "outputs": [
    {
     "data": {
      "text/plain": [
       "'saber'"
      ]
     },
     "execution_count": 162,
     "metadata": {},
     "output_type": "execute_result"
    }
   ],
   "source": [
    "random_verb = verb_list[random.randrange(0,len(verb_list))]\n",
    "random_verb\n"
   ]
  },
  {
   "cell_type": "code",
   "execution_count": 163,
   "metadata": {},
   "outputs": [
    {
     "data": {
      "text/plain": [
       "'Imperative'"
      ]
     },
     "execution_count": 163,
     "metadata": {},
     "output_type": "execute_result"
    }
   ],
   "source": [
    "rMood = moods[random.randrange(0,len(moods))]\n",
    "rMood"
   ]
  },
  {
   "cell_type": "code",
   "execution_count": 164,
   "metadata": {},
   "outputs": [
    {
     "data": {
      "text/plain": [
       "'Affirmative'"
      ]
     },
     "execution_count": 164,
     "metadata": {},
     "output_type": "execute_result"
    }
   ],
   "source": [
    "rTense = tenses[random.randrange(0,len(tenses))]\n",
    "rTense\n"
   ]
  },
  {
   "cell_type": "code",
   "execution_count": 165,
   "metadata": {},
   "outputs": [],
   "source": [
    "rForm = pronouns[random.randrange(0,len(pronouns))]\n",
    "rForm"
   ]
  },
  {
   "cell_type": "code",
   "execution_count": 166,
   "metadata": {},
   "outputs": [
    {
     "data": {
      "text/plain": [
       "'What is the Affirmative Imperative Ud. form of the verb saber ?'"
      ]
     },
     "execution_count": 166,
     "metadata": {},
     "output_type": "execute_result"
    }
   ],
   "source": [
    "question_String = 'What is the {} {} {} form of the verb {} ?'.format(\n",
    "    rTense, rMood, rForm, random_verb \n",
    ")\n",
    "question_String"
   ]
  },
  {
   "cell_type": "code",
   "execution_count": 167,
   "metadata": {},
   "outputs": [
    {
     "data": {
      "text/plain": [
       "'sepa'"
      ]
     },
     "execution_count": 167,
     "metadata": {},
     "output_type": "execute_result"
    }
   ],
   "source": [
    "answerDFList = verbs_df['Conjugations'].values[verbMap[random_verb]]\n",
    "answerMoodDF = answerDFList[moodMap[rMood]]\n",
    "try:\n",
    "    answerTenseCol = answerMoodDF[rTense].values\n",
    "    answer = answerTenseCol[pronounMap[rForm]]\n",
    "except KeyError:\n",
    "    answer = 'No such Tense for Mood'\n",
    "answer"
   ]
  },
  {
   "cell_type": "code",
   "execution_count": 168,
   "metadata": {},
   "outputs": [
    {
     "data": {
      "text/plain": [
       "['estarás sabiendo',\n 'sabríais',\n 'sepa',\n 'no sepa',\n 'estuvieron sabiendo',\n 'habremos sabido',\n 'supiéremos',\n 'habríamos sabido']"
      ]
     },
     "execution_count": 172,
     "metadata": {},
     "output_type": "execute_result"
    }
   ],
   "source": [
    "verb_block = verb_blocks[verbMap[random_verb]]\n",
    "verb_block\n"
   ]
  },
  {
   "cell_type": "code",
   "execution_count": 172,
   "metadata": {},
   "outputs": [
    {
     "data": {
      "text/plain": [
       "['estarás sabiendo',\n 'sabríais',\n 'sepa',\n 'no sepa',\n 'estuvieron sabiendo',\n 'habremos sabido',\n 'supiéremos',\n 'habríamos sabido']"
      ]
     },
     "execution_count": 172,
     "metadata": {},
     "output_type": "execute_result"
    }
   ],
   "source": [
    "answer_List = [answer]\n",
    "st = verb_block[0]\n",
    "en = verb_block[1]\n",
    "for i in range(7):\n",
    "    random_word = all_words[random.randrange(st,en)]\n",
    "    while random_word == answer:\n",
    "        random_word = all_words[random.randrange(st, en)]\n",
    "    answer_List.append(random_word)\n",
    "random.shuffle(answer_List)\n",
    "answer_List\n"
   ]
  },
  {
   "cell_type": "code",
   "execution_count": 173,
   "metadata": {},
   "outputs": [
    {
     "data": {
      "text/plain": [
       "2"
      ]
     },
     "execution_count": 173,
     "metadata": {},
     "output_type": "execute_result"
    }
   ],
   "source": [
    "answer_index = answer_List.index(answer)\n",
    "answer_index"
   ]
  },
  {
   "cell_type": "code",
   "execution_count": 172,
   "metadata": {},
   "outputs": [],
   "source": []
  },
  {
   "cell_type": "code",
   "execution_count": 149,
   "metadata": {},
   "outputs": [],
   "source": []
  },
  {
   "cell_type": "code",
   "execution_count": null,
   "metadata": {},
   "outputs": [],
   "source": []
  }
 ],
 "metadata": {
  "kernelspec": {
   "display_name": "Python 2",
   "language": "python",
   "name": "python2"
  },
  "language_info": {
   "codemirror_mode": {
    "name": "ipython",
    "version": 2
   },
   "file_extension": ".py",
   "mimetype": "text/x-python",
   "name": "python",
   "nbconvert_exporter": "python",
   "pygments_lexer": "ipython2",
   "version": "2.7.6"
  }
 },
 "nbformat": 4,
 "nbformat_minor": 0
}
