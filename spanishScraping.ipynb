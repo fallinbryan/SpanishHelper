{
 "cells": [
  {
   "cell_type": "code",
   "execution_count": 24,
   "metadata": {
    "collapsed": true
   },
   "outputs": [],
   "source": [
    "import requests"
   ]
  },
  {
   "cell_type": "code",
   "execution_count": 19,
   "metadata": {},
   "outputs": [],
   "source": [
    "from bs4 import BeautifulSoup as soup"
   ]
  },
  {
   "cell_type": "code",
   "execution_count": 20,
   "metadata": {},
   "outputs": [],
   "source": [
    "verbListURL = 'https://www.linguasorb.com/spanish/verbs/most-common-verbs/'"
   ]
  },
  {
   "cell_type": "code",
   "execution_count": 27,
   "metadata": {},
   "outputs": [],
   "source": [
    "\n",
    "verbListClient = requests.get(verbListURL)"
   ]
  },
  {
   "cell_type": "code",
   "execution_count": 30,
   "metadata": {},
   "outputs": [],
   "source": [
    "verbListPage = verbListClient.text"
   ]
  },
  {
   "cell_type": "code",
   "execution_count": 31,
   "metadata": {},
   "outputs": [],
   "source": [
    "verbListClient.close()"
   ]
  },
  {
   "cell_type": "code",
   "execution_count": 33,
   "metadata": {},
   "outputs": [],
   "source": [
    "vbListSoup = soup(verbListPage, 'html.parser')"
   ]
  },
  {
   "cell_type": "code",
   "execution_count": 60,
   "metadata": {},
   "outputs": [],
   "source": [
    "vbTable = vbListSoup.findAll('table', {'id': 'verbTable'})\n",
    "vbsIreg = vbListSoup.findAll('span', {'class': None})"
   ]
  },
  {
   "cell_type": "code",
   "execution_count": 115,
   "metadata": {},
   "outputs": [
    {
     "data": {
      "text/plain": [
       "'to be (health, location, state)'"
      ]
     },
     "execution_count": 115,
     "metadata": {},
     "output_type": "execute_result"
    }
   ],
   "source": [
    "#vbTable[0].findAll('span', {'class': 'vIrreg'})\n",
    "#vbTable[0].findAll('span', {'class': \"\"})\n",
    "vbRows = vbTable[0].findAll('tr')\n",
    "vbRows[3].findAll('td')[2].text\n",
    "#vbRows[1].findAll('td')[1].a.findAll('span', {'class':'vIrreg'})"
   ]
  },
  {
   "cell_type": "code",
   "execution_count": 116,
   "metadata": {},
   "outputs": [
    {
     "name": "stdout",
     "output_type": "stream",
     "text": [
      "ser\thaber\testar\ttener\thacer\tpoder\tdecir\tir\tver\tdar\tsaber\tquerer\tllegar\tpasar\tdeber\tponer\tparecer\tquedar\tcreer\thablar\tllevar\tdejar\tseguir\tencontrar\tllamar\t"
     ]
    }
   ],
   "source": [
    "verbList = []\n",
    "for row in vbRows:\n",
    "    isRegular = True\n",
    "    try:\n",
    "        print( row.findAll('td')[1].a.span.text, end='\\t')\n",
    "        if len(row.findAll('td')[1].a.findAll('span', {'class':'vIrreg'})) > 0:\n",
    "            isRegular = False\n",
    "        else:\n",
    "            isRegular = True\n",
    "            \n",
    "        if isRegular:\n",
    "            verbList.append( (row.findAll('td')[2].text,row.findAll('td')[1].a.span.text,'regular' ) )\n",
    "        else:\n",
    "            verbList.append( (row.findAll('td')[2].text,row.findAll('td')[1].a.span.text,'irregular' ) )\n",
    "    except:\n",
    "        pass"
   ]
  },
  {
   "cell_type": "code",
   "execution_count": 117,
   "metadata": {},
   "outputs": [
    {
     "data": {
      "text/plain": [
       "[('to be (essential/permanent quality)', 'ser', 'irregular'),\n ('to have (to do something, auxiliary verb)', 'haber', 'irregular'),\n ('to be (health, location, state)', 'estar', 'irregular'),\n ('to have', 'tener', 'irregular'),\n ('to do, make', 'hacer', 'irregular'),\n ('to be able, can', 'poder', 'irregular'),\n ('to say, tell', 'decir', 'irregular'),\n ('to go', 'ir', 'irregular'),\n ('to see', 'ver', 'irregular'),\n ('to give', 'dar', 'irregular'),\n ('to know (information)', 'saber', 'irregular'),\n ('to want, love', 'querer', 'irregular'),\n ('to arrive, come, reach', 'llegar', 'irregular'),\n ('to pass, to spend (time), to happen', 'pasar', 'regular'),\n ('to owe, must, should, ought to', 'deber', 'regular'),\n ('to put, place, set', 'poner', 'irregular'),\n ('to seem, appear', 'parecer', 'irregular'),\n ('to stay, remain', 'quedar', 'regular'),\n ('to believe', 'creer', 'irregular'),\n ('to speak', 'hablar', 'regular'),\n ('to carry, bring', 'llevar', 'regular'),\n ('to leave, abandon, to let, allow', 'dejar', 'regular'),\n ('to follow, continue', 'seguir', 'irregular'),\n ('to find, encounter', 'encontrar', 'irregular'),\n ('to call, to name', 'llamar', 'regular')]"
      ]
     },
     "execution_count": 117,
     "metadata": {},
     "output_type": "execute_result"
    }
   ],
   "source": [
    "verbList"
   ]
  }
 ],
 "metadata": {
  "kernelspec": {
   "display_name": "Python 2",
   "language": "python",
   "name": "python2"
  },
  "language_info": {
   "codemirror_mode": {
    "name": "ipython",
    "version": 2
   },
   "file_extension": ".py",
   "mimetype": "text/x-python",
   "name": "python",
   "nbconvert_exporter": "python",
   "pygments_lexer": "ipython2",
   "version": "2.7.6"
  }
 },
 "nbformat": 4,
 "nbformat_minor": 0
}
